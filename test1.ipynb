{
 "metadata": {
  "language_info": {
   "codemirror_mode": {
    "name": "ipython",
    "version": 3
   },
   "file_extension": ".py",
   "mimetype": "text/x-python",
   "name": "python",
   "nbconvert_exporter": "python",
   "pygments_lexer": "ipython3",
   "version": "3.8.2-final"
  },
  "orig_nbformat": 2,
  "kernelspec": {
   "name": "python3",
   "display_name": "Python 3.8.2 64-bit ('scipy-stack')",
   "metadata": {
    "interpreter": {
     "hash": "31415cd2bfbfc60c0350ca562fb2ad14471203c8c14164e674eebeefbc64b1d6"
    }
   }
  }
 },
 "nbformat": 4,
 "nbformat_minor": 2,
 "cells": [
  {
   "cell_type": "code",
   "execution_count": 1,
   "metadata": {},
   "outputs": [],
   "source": [
    "from sympy import *\n",
    "from sympy.stats import *\n",
    "from IPython.display import display"
   ]
  },
  {
   "cell_type": "code",
   "execution_count": 8,
   "metadata": {},
   "outputs": [
    {
     "output_type": "display_data",
     "data": {
      "text/plain": "(theta_ij*(pi*theta_i1**2 + 4*theta_i1*theta_ij*theta_j1 - 2*pi*theta_i1*theta_ij - 2*pi*theta_i1*theta_j1 + pi*theta_ij**2 - 2*pi*theta_ij*theta_j1 + pi*theta_j1**2) + pi*(A - 1)*(pi*theta_i1**2 + 4*theta_i1*theta_ij*theta_j1 - 2*pi*theta_i1*theta_ij - 2*pi*theta_i1*theta_j1 + pi*theta_ij**2 - 2*pi*theta_ij*theta_j1 + pi*theta_j1**2) + (theta_i1 + pi*(B - 1))*(-2*theta_i1**2*theta_j1 + pi*theta_i1**2 - 2*pi*theta_i1*theta_ij + 2*pi*theta_i1*theta_j1 - 2*theta_ij**2*theta_j1 + pi*theta_ij**2 + 2*pi*theta_ij*theta_j1 + 2*theta_j1**3 - 3*pi*theta_j1**2) + (theta_j1 + pi*(C - 1))*(2*theta_i1**3 - 3*pi*theta_i1**2 - 2*theta_i1*theta_ij**2 + 2*pi*theta_i1*theta_ij - 2*theta_i1*theta_j1**2 + 2*pi*theta_i1*theta_j1 + pi*theta_ij**2 - 2*pi*theta_ij*theta_j1 + pi*theta_j1**2))/(pi*(pi*theta_i1**2 + 4*theta_i1*theta_ij*theta_j1 - 2*pi*theta_i1*theta_ij - 2*pi*theta_i1*theta_j1 + pi*theta_ij**2 - 2*pi*theta_ij*theta_j1 + pi*theta_j1**2))",
      "text/latex": "$\\displaystyle \\frac{\\theta_{ij} \\left(\\pi \\theta_{i1}^{2} + 4 \\theta_{i1} \\theta_{ij} \\theta_{j1} - 2 \\pi \\theta_{i1} \\theta_{ij} - 2 \\pi \\theta_{i1} \\theta_{j1} + \\pi \\theta_{ij}^{2} - 2 \\pi \\theta_{ij} \\theta_{j1} + \\pi \\theta_{j1}^{2}\\right) + \\pi \\left(A - 1\\right) \\left(\\pi \\theta_{i1}^{2} + 4 \\theta_{i1} \\theta_{ij} \\theta_{j1} - 2 \\pi \\theta_{i1} \\theta_{ij} - 2 \\pi \\theta_{i1} \\theta_{j1} + \\pi \\theta_{ij}^{2} - 2 \\pi \\theta_{ij} \\theta_{j1} + \\pi \\theta_{j1}^{2}\\right) + \\left(\\theta_{i1} + \\pi \\left(B - 1\\right)\\right) \\left(- 2 \\theta_{i1}^{2} \\theta_{j1} + \\pi \\theta_{i1}^{2} - 2 \\pi \\theta_{i1} \\theta_{ij} + 2 \\pi \\theta_{i1} \\theta_{j1} - 2 \\theta_{ij}^{2} \\theta_{j1} + \\pi \\theta_{ij}^{2} + 2 \\pi \\theta_{ij} \\theta_{j1} + 2 \\theta_{j1}^{3} - 3 \\pi \\theta_{j1}^{2}\\right) + \\left(\\theta_{j1} + \\pi \\left(C - 1\\right)\\right) \\left(2 \\theta_{i1}^{3} - 3 \\pi \\theta_{i1}^{2} - 2 \\theta_{i1} \\theta_{ij}^{2} + 2 \\pi \\theta_{i1} \\theta_{ij} - 2 \\theta_{i1} \\theta_{j1}^{2} + 2 \\pi \\theta_{i1} \\theta_{j1} + \\pi \\theta_{ij}^{2} - 2 \\pi \\theta_{ij} \\theta_{j1} + \\pi \\theta_{j1}^{2}\\right)}{\\pi \\left(\\pi \\theta_{i1}^{2} + 4 \\theta_{i1} \\theta_{ij} \\theta_{j1} - 2 \\pi \\theta_{i1} \\theta_{ij} - 2 \\pi \\theta_{i1} \\theta_{j1} + \\pi \\theta_{ij}^{2} - 2 \\pi \\theta_{ij} \\theta_{j1} + \\pi \\theta_{j1}^{2}\\right)}$"
     },
     "metadata": {}
    },
    {
     "output_type": "display_data",
     "data": {
      "text/plain": "theta_ij*(pi*theta_i1**2 + 4*theta_i1*theta_ij*theta_j1 - 2*pi*theta_i1*theta_ij - 2*pi*theta_i1*theta_j1 + pi*theta_ij**2 - 2*pi*theta_ij*theta_j1 + pi*theta_j1**2) + pi*(A - 1)*(pi*theta_i1**2 + 4*theta_i1*theta_ij*theta_j1 - 2*pi*theta_i1*theta_ij - 2*pi*theta_i1*theta_j1 + pi*theta_ij**2 - 2*pi*theta_ij*theta_j1 + pi*theta_j1**2) + (theta_i1 + pi*(B - 1))*(-2*theta_i1**2*theta_j1 + pi*theta_i1**2 - 2*pi*theta_i1*theta_ij + 2*pi*theta_i1*theta_j1 - 2*theta_ij**2*theta_j1 + pi*theta_ij**2 + 2*pi*theta_ij*theta_j1 + 2*theta_j1**3 - 3*pi*theta_j1**2) + (theta_j1 + pi*(C - 1))*(2*theta_i1**3 - 3*pi*theta_i1**2 - 2*theta_i1*theta_ij**2 + 2*pi*theta_i1*theta_ij - 2*theta_i1*theta_j1**2 + 2*pi*theta_i1*theta_j1 + pi*theta_ij**2 - 2*pi*theta_ij*theta_j1 + pi*theta_j1**2)",
      "text/latex": "$\\displaystyle \\theta_{ij} \\left(\\pi \\theta_{i1}^{2} + 4 \\theta_{i1} \\theta_{ij} \\theta_{j1} - 2 \\pi \\theta_{i1} \\theta_{ij} - 2 \\pi \\theta_{i1} \\theta_{j1} + \\pi \\theta_{ij}^{2} - 2 \\pi \\theta_{ij} \\theta_{j1} + \\pi \\theta_{j1}^{2}\\right) + \\pi \\left(A - 1\\right) \\left(\\pi \\theta_{i1}^{2} + 4 \\theta_{i1} \\theta_{ij} \\theta_{j1} - 2 \\pi \\theta_{i1} \\theta_{ij} - 2 \\pi \\theta_{i1} \\theta_{j1} + \\pi \\theta_{ij}^{2} - 2 \\pi \\theta_{ij} \\theta_{j1} + \\pi \\theta_{j1}^{2}\\right) + \\left(\\theta_{i1} + \\pi \\left(B - 1\\right)\\right) \\left(- 2 \\theta_{i1}^{2} \\theta_{j1} + \\pi \\theta_{i1}^{2} - 2 \\pi \\theta_{i1} \\theta_{ij} + 2 \\pi \\theta_{i1} \\theta_{j1} - 2 \\theta_{ij}^{2} \\theta_{j1} + \\pi \\theta_{ij}^{2} + 2 \\pi \\theta_{ij} \\theta_{j1} + 2 \\theta_{j1}^{3} - 3 \\pi \\theta_{j1}^{2}\\right) + \\left(\\theta_{j1} + \\pi \\left(C - 1\\right)\\right) \\left(2 \\theta_{i1}^{3} - 3 \\pi \\theta_{i1}^{2} - 2 \\theta_{i1} \\theta_{ij}^{2} + 2 \\pi \\theta_{i1} \\theta_{ij} - 2 \\theta_{i1} \\theta_{j1}^{2} + 2 \\pi \\theta_{i1} \\theta_{j1} + \\pi \\theta_{ij}^{2} - 2 \\pi \\theta_{ij} \\theta_{j1} + \\pi \\theta_{j1}^{2}\\right)$"
     },
     "metadata": {}
    }
   ],
   "source": [
    "tij, ti1, tj1 = symbols('theta_ij theta_i1 theta_j1')\n",
    "\n",
    "e_a = 1 - tij / pi\n",
    "e_b = 1 - ti1 / pi\n",
    "e_c = 1 - tj1 / pi\n",
    "\n",
    "var_b = e_b * (1 - e_b)\n",
    "var_c = e_c * (1 - e_c)\n",
    "\n",
    "three_way = 1 - (tij + ti1 + tj1) / (2 * pi)\n",
    "cov_ab = three_way - e_a * e_b\n",
    "cov_ac = three_way - e_a * e_c\n",
    "cov_bc = three_way - e_b * e_c\n",
    "\n",
    "cov_mat = Matrix([[var_b, cov_bc], [cov_bc, var_c]])\n",
    "inv_mat = cov_mat.inv()\n",
    "ys = Matrix([[cov_ab], [cov_ac]])\n",
    "cs = -1 * inv_mat * ys\n",
    "c1 = simplify(cs[0])\n",
    "c2 = simplify(cs[1])\n",
    "\n",
    "A, B, C = symbols('A B C')\n",
    "\n",
    "cv_eqn = A + c1 * (B - e_b) + c2 * (C - e_c) - (1 - tij / pi)\n",
    "cv_eqn = simplify(cv_eqn)\n",
    "display(cv_eqn)\n",
    "\n",
    "# print out the actual formula (as python code)\n",
    "# print(cv_eqn)\n",
    "# print()\n",
    "# print(simplify(diff(cv_eqn, tij)))\n",
    "\n",
    "# print out just the numerator (should give the same roots)\n",
    "cv_num, _ = fraction(cv_eqn)\n",
    "display(simplify(cv_num))\n",
    "# print(simplify(cv_num))\n",
    "# print()\n",
    "# print(simplify(diff(cv_num, tij)))\n",
    "\n",
    "# unfortunately, cross multiplying causes a loss in variance.\n",
    "# however, it seems that the cv estimates are pretty stable in terms of newton raphson, so there might not be a need to cross multiply"
   ]
  },
  {
   "cell_type": "code",
   "execution_count": 3,
   "metadata": {},
   "outputs": [
    {
     "output_type": "display_data",
     "data": {
      "text/plain": "1",
      "text/latex": "$\\displaystyle 1$"
     },
     "metadata": {}
    },
    {
     "output_type": "display_data",
     "data": {
      "text/plain": "(pi**2*(n2 + n3)*(pi**3*p**2 - 2*pi*p*theta_i1*theta_j1 + 2*pi**2*p*theta_i1 + 2*pi**2*p*theta_j1 - 2*pi**3*p - theta_i1**2*theta_j1 + pi*theta_i1**2 - theta_i1*theta_j1**2 + 3*pi*theta_i1*theta_j1 - 2*pi**2*theta_i1 + pi*theta_j1**2 - 2*pi**2*theta_j1 + pi**3) - (theta_i1*(theta_i1 - pi)*(pi**2*p + (theta_j1 - pi)*(theta_i1 + theta_j1 + 2*pi*(p - 1) + pi)) + (pi**2*p + (theta_i1 - pi)*(theta_i1 + theta_j1 + 2*pi*(p - 1) + pi))*(pi**2*p - theta_i1*theta_j1 + pi*theta_i1 + pi*theta_j1 - pi**2))*(theta_j1*(n1 + n2 + n3 + n4) + pi*(n1 + n3) - pi*(n1 + n2 + n3 + n4)) - (theta_j1*(theta_j1 - pi)*(pi**2*p + (theta_i1 - pi)*(theta_i1 + theta_j1 + 2*pi*(p - 1) + pi)) + (pi**2*p + (theta_j1 - pi)*(theta_i1 + theta_j1 + 2*pi*(p - 1) + pi))*(pi**2*p - theta_i1*theta_j1 + pi*theta_i1 + pi*theta_j1 - pi**2))*(theta_i1*(n1 + n2 + n3 + n4) + pi*(n3 + n4) - pi*(n1 + n2 + n3 + n4)) - pi*(theta_i1 + theta_j1 + 2*pi*(p - 1))*(n1 + n2 + n3 + n4)*(pi**3*p**2 - 2*pi*p*theta_i1*theta_j1 + 2*pi**2*p*theta_i1 + 2*pi**2*p*theta_j1 - 2*pi**3*p - theta_i1**2*theta_j1 + pi*theta_i1**2 - theta_i1*theta_j1**2 + 3*pi*theta_i1*theta_j1 - 2*pi**2*theta_i1 + pi*theta_j1**2 - 2*pi**2*theta_j1 + pi**3) + pi**2*(n1 + n2 + n3 + n4)*(-pi**3*p**2 + 2*pi*p*theta_i1*theta_j1 - 2*pi**2*p*theta_i1 - 2*pi**2*p*theta_j1 + 2*pi**3*p + theta_i1**2*theta_j1 - pi*theta_i1**2 + theta_i1*theta_j1**2 - 3*pi*theta_i1*theta_j1 + 2*pi**2*theta_i1 - pi*theta_j1**2 + 2*pi**2*theta_j1 - pi**3))/(pi**2*(n1 + n2 + n3 + n4)*(pi**3*p**2 - 2*pi*p*theta_i1*theta_j1 + 2*pi**2*p*theta_i1 + 2*pi**2*p*theta_j1 - 2*pi**3*p - theta_i1**2*theta_j1 + pi*theta_i1**2 - theta_i1*theta_j1**2 + 3*pi*theta_i1*theta_j1 - 2*pi**2*theta_i1 + pi*theta_j1**2 - 2*pi**2*theta_j1 + pi**3))",
      "text/latex": "$\\displaystyle \\frac{\\pi^{2} \\left(n_{2} + n_{3}\\right) \\left(\\pi^{3} p^{2} - 2 \\pi p \\theta_{i1} \\theta_{j1} + 2 \\pi^{2} p \\theta_{i1} + 2 \\pi^{2} p \\theta_{j1} - 2 \\pi^{3} p - \\theta_{i1}^{2} \\theta_{j1} + \\pi \\theta_{i1}^{2} - \\theta_{i1} \\theta_{j1}^{2} + 3 \\pi \\theta_{i1} \\theta_{j1} - 2 \\pi^{2} \\theta_{i1} + \\pi \\theta_{j1}^{2} - 2 \\pi^{2} \\theta_{j1} + \\pi^{3}\\right) - \\left(\\theta_{i1} \\left(\\theta_{i1} - \\pi\\right) \\left(\\pi^{2} p + \\left(\\theta_{j1} - \\pi\\right) \\left(\\theta_{i1} + \\theta_{j1} + 2 \\pi \\left(p - 1\\right) + \\pi\\right)\\right) + \\left(\\pi^{2} p + \\left(\\theta_{i1} - \\pi\\right) \\left(\\theta_{i1} + \\theta_{j1} + 2 \\pi \\left(p - 1\\right) + \\pi\\right)\\right) \\left(\\pi^{2} p - \\theta_{i1} \\theta_{j1} + \\pi \\theta_{i1} + \\pi \\theta_{j1} - \\pi^{2}\\right)\\right) \\left(\\theta_{j1} \\left(n_{1} + n_{2} + n_{3} + n_{4}\\right) + \\pi \\left(n_{1} + n_{3}\\right) - \\pi \\left(n_{1} + n_{2} + n_{3} + n_{4}\\right)\\right) - \\left(\\theta_{j1} \\left(\\theta_{j1} - \\pi\\right) \\left(\\pi^{2} p + \\left(\\theta_{i1} - \\pi\\right) \\left(\\theta_{i1} + \\theta_{j1} + 2 \\pi \\left(p - 1\\right) + \\pi\\right)\\right) + \\left(\\pi^{2} p + \\left(\\theta_{j1} - \\pi\\right) \\left(\\theta_{i1} + \\theta_{j1} + 2 \\pi \\left(p - 1\\right) + \\pi\\right)\\right) \\left(\\pi^{2} p - \\theta_{i1} \\theta_{j1} + \\pi \\theta_{i1} + \\pi \\theta_{j1} - \\pi^{2}\\right)\\right) \\left(\\theta_{i1} \\left(n_{1} + n_{2} + n_{3} + n_{4}\\right) + \\pi \\left(n_{3} + n_{4}\\right) - \\pi \\left(n_{1} + n_{2} + n_{3} + n_{4}\\right)\\right) - \\pi \\left(\\theta_{i1} + \\theta_{j1} + 2 \\pi \\left(p - 1\\right)\\right) \\left(n_{1} + n_{2} + n_{3} + n_{4}\\right) \\left(\\pi^{3} p^{2} - 2 \\pi p \\theta_{i1} \\theta_{j1} + 2 \\pi^{2} p \\theta_{i1} + 2 \\pi^{2} p \\theta_{j1} - 2 \\pi^{3} p - \\theta_{i1}^{2} \\theta_{j1} + \\pi \\theta_{i1}^{2} - \\theta_{i1} \\theta_{j1}^{2} + 3 \\pi \\theta_{i1} \\theta_{j1} - 2 \\pi^{2} \\theta_{i1} + \\pi \\theta_{j1}^{2} - 2 \\pi^{2} \\theta_{j1} + \\pi^{3}\\right) + \\pi^{2} \\left(n_{1} + n_{2} + n_{3} + n_{4}\\right) \\left(- \\pi^{3} p^{2} + 2 \\pi p \\theta_{i1} \\theta_{j1} - 2 \\pi^{2} p \\theta_{i1} - 2 \\pi^{2} p \\theta_{j1} + 2 \\pi^{3} p + \\theta_{i1}^{2} \\theta_{j1} - \\pi \\theta_{i1}^{2} + \\theta_{i1} \\theta_{j1}^{2} - 3 \\pi \\theta_{i1} \\theta_{j1} + 2 \\pi^{2} \\theta_{i1} - \\pi \\theta_{j1}^{2} + 2 \\pi^{2} \\theta_{j1} - \\pi^{3}\\right)}{\\pi^{2} \\left(n_{1} + n_{2} + n_{3} + n_{4}\\right) \\left(\\pi^{3} p^{2} - 2 \\pi p \\theta_{i1} \\theta_{j1} + 2 \\pi^{2} p \\theta_{i1} + 2 \\pi^{2} p \\theta_{j1} - 2 \\pi^{3} p - \\theta_{i1}^{2} \\theta_{j1} + \\pi \\theta_{i1}^{2} - \\theta_{i1} \\theta_{j1}^{2} + 3 \\pi \\theta_{i1} \\theta_{j1} - 2 \\pi^{2} \\theta_{i1} + \\pi \\theta_{j1}^{2} - 2 \\pi^{2} \\theta_{j1} + \\pi^{3}\\right)}$"
     },
     "metadata": {}
    },
    {
     "output_type": "display_data",
     "data": {
      "text/plain": "-2*pi**2",
      "text/latex": "$\\displaystyle - 2 \\pi^{2}$"
     },
     "metadata": {}
    }
   ],
   "source": [
    "p = Symbol('p')\n",
    "n1, n2, n3, n4 = symbols('n1 n2 n3 n4')\n",
    "target1 = n1 * pi / (tj1 + pi * (p - 1)) + n4 * pi / (ti1 + pi * (p - 1)) + n2 * pi / (ti1 + tj1 + pi * (p - 1)) + n3 / p\n",
    "\n",
    "target2 = n1 * pi * p * (ti1 + pi * (p - 1)) * (ti1 + tj1 + pi * (p - 1)) + n4 * pi * p * (ti1 + tj1 + pi * (p - 1)) * (tj1 + pi * (p - 1)) + n2 * pi * p * (tj1 + pi * (p - 1)) * (ti1 + pi * (p - 1)) + n3 * (ti1 + pi * (p - 1)) * (ti1 + tj1 + pi * (p - 1)) * (tj1 + pi * (p - 1))\n",
    "\n",
    "target = cancel(target1)\n",
    "\n",
    "# display(target)\n",
    "# display(simplify(target2))\n",
    "# display(simplify(diff(target2, p)))\n",
    "\n",
    "# target2 is the numerator of target (ie. they share the exact same roots)\n",
    "n, _ = fraction(target)\n",
    "display(simplify(n / target2)) # displays 1\n",
    "\n",
    "# empirical results show that cv and mle should give the same answer\n",
    "# i.e. if you solve for p in target, calculate tij from that value, you would get the same result as if you had calculated tij in cv\n",
    "# print out the actual formula (as python code)\n",
    "# for the original loglik\n",
    "# print(str(simplify(target)))\n",
    "# print()\n",
    "# print(str(simplify(diff(target, p))))\n",
    "\n",
    "# for the cross-multiplication\n",
    "# print(simplify(target2))\n",
    "# print()\n",
    "# print(simplify(diff(target2, p)))\n",
    "\n",
    "# results: using the original loglik is super unstable, but there are many times where it almost exactly matches the results using cv\n",
    "# the cross-mult gives widely different results from the original loglik, but it is a lot more stable\n",
    "# seem to trade off stability and variance reduction when using mle\n",
    "# possibly because the cross multiplication multiplies by numbers close to 0?\n",
    "\n",
    "# change of variables\n",
    "# A (i==j): (n2 + n3) / k\n",
    "# B (i==1): (n3 + n4) / k\n",
    "# C (j==1): (n1 + n3) / k\n",
    "# tij: 2pi(1 - p) - ti1 - tj1 => p: three_way between tij, ti1, tj1 = 1 - (tij + ti1 + tj1) / 2pi\n",
    "# k: n1 + n2 + n3 + n4\n",
    "\n",
    "# let's rewrite the CV equation in terms of the above variables (n1...n4, and p)\n",
    "# first copy over the whole derivation\n",
    "tij_change = 2 * pi * (1 - p) - ti1 - tj1\n",
    "K = n1 + n2 + n3 + n4\n",
    "A = (n2 + n3) / K\n",
    "B = (n3 + n4) / K\n",
    "C = (n1 + n3) / K\n",
    "\n",
    "e_a = 1 - tij_change / pi\n",
    "e_b = 1 - ti1 / pi\n",
    "e_c = 1 - tj1 / pi\n",
    "\n",
    "var_b = e_b * (1 - e_b)\n",
    "var_c = e_c * (1 - e_c)\n",
    "\n",
    "three_way = 1 - (tij_change + ti1 + tj1) / (2 * pi)\n",
    "cov_ab = three_way - e_a * e_b\n",
    "cov_ac = three_way - e_a * e_c\n",
    "cov_bc = three_way - e_b * e_c\n",
    "\n",
    "cov_mat = Matrix([[var_b, cov_bc], [cov_bc, var_c]])\n",
    "inv_mat = cov_mat.inv()\n",
    "ys = Matrix([[cov_ab], [cov_ac]])\n",
    "cs = -1 * inv_mat * ys\n",
    "c1 = simplify(cs[0])\n",
    "c2 = simplify(cs[1])\n",
    "\n",
    "cv_eqn = A + c1 * (B - e_b) + c2 * (C - e_c) - (1 - tij_change / pi)\n",
    "cv_eqn = simplify(cv_eqn)\n",
    "display(cv_eqn)\n",
    "\n",
    "# we can then test this empirically to see if the resultant p matches that of the mle estimates\n",
    "# print(simplify(cv_eqn))\n",
    "# print()\n",
    "# print(simplify(diff(cv_eqn, p)))\n",
    "\n",
    "n_eqn, _ = fraction(cv_eqn)\n",
    "# print(simplify(n_eqn))\n",
    "# print()\n",
    "# print(simplify(diff(n_eqn, p)))\n",
    "# okay, if we cross-multiply, we get the same values as the actual cv cross multiplication (ie target2)\n",
    "# this is good news, though, since it agains reaffirms (empirically at least) that the two equations are the same\n",
    "# but it seems to show a lot of loss in precision when we try to cross multiply away the denominator\n",
    "\n",
    "# let us try to show that these two equations are then equal\n",
    "display(simplify(n_eqn / target2))\n",
    "\n",
    "# hooray, n_eqn is simply a factor of -2pi^2 away from the MLE equation. We also managed to obtain n_eqn through the cv technique, meaning we have shown the equivalence of the cv and mle estimates\n",
    "\n"
   ]
  },
  {
   "cell_type": "code",
   "execution_count": 5,
   "metadata": {},
   "outputs": [
    {
     "output_type": "display_data",
     "data": {
      "text/plain": "pi*(-theta_i1**4 + 2*pi*theta_i1**3 + 2*theta_i1**2*theta_ij**2 - 2*pi*theta_i1**2*theta_ij + 2*theta_i1**2*theta_j1**2 - 2*pi*theta_i1**2*theta_j1 - 2*pi*theta_i1*theta_ij**2 + 4*pi*theta_i1*theta_ij*theta_j1 - 2*pi*theta_i1*theta_j1**2 - theta_ij**4 + 2*pi*theta_ij**3 + 2*theta_ij**2*theta_j1**2 - 2*pi*theta_ij**2*theta_j1 - 2*pi*theta_ij*theta_j1**2 - theta_j1**4 + 2*pi*theta_j1**3)/(pi*theta_i1**2 + 4*theta_i1*theta_ij*theta_j1 - 2*pi*theta_i1*theta_ij - 2*pi*theta_i1*theta_j1 + pi*theta_ij**2 - 2*pi*theta_ij*theta_j1 + pi*theta_j1**2)",
      "text/latex": "$\\displaystyle \\frac{\\pi \\left(- \\theta_{i1}^{4} + 2 \\pi \\theta_{i1}^{3} + 2 \\theta_{i1}^{2} \\theta_{ij}^{2} - 2 \\pi \\theta_{i1}^{2} \\theta_{ij} + 2 \\theta_{i1}^{2} \\theta_{j1}^{2} - 2 \\pi \\theta_{i1}^{2} \\theta_{j1} - 2 \\pi \\theta_{i1} \\theta_{ij}^{2} + 4 \\pi \\theta_{i1} \\theta_{ij} \\theta_{j1} - 2 \\pi \\theta_{i1} \\theta_{j1}^{2} - \\theta_{ij}^{4} + 2 \\pi \\theta_{ij}^{3} + 2 \\theta_{ij}^{2} \\theta_{j1}^{2} - 2 \\pi \\theta_{ij}^{2} \\theta_{j1} - 2 \\pi \\theta_{ij} \\theta_{j1}^{2} - \\theta_{j1}^{4} + 2 \\pi \\theta_{j1}^{3}\\right)}{\\pi \\theta_{i1}^{2} + 4 \\theta_{i1} \\theta_{ij} \\theta_{j1} - 2 \\pi \\theta_{i1} \\theta_{ij} - 2 \\pi \\theta_{i1} \\theta_{j1} + \\pi \\theta_{ij}^{2} - 2 \\pi \\theta_{ij} \\theta_{j1} + \\pi \\theta_{j1}^{2}}$"
     },
     "metadata": {}
    }
   ],
   "source": [
    "# what is the theoretical variance reduction\n",
    "# the variance of the final estimate is basically: Var(A) + c1^2 Var(B) + c2^2 Var(C) + 2c1Cov(A,B) + 2c2Cov(A,C) + 2c1c2Cov(B,C)\n",
    "# tij = pi(1 - A') => var(tij) = pi^2 var(A')\n",
    "tij, ti1, tj1 = symbols('theta_ij theta_i1 theta_j1')\n",
    "\n",
    "e_a = 1 - tij / pi\n",
    "e_b = 1 - ti1 / pi\n",
    "e_c = 1 - tj1 / pi\n",
    "\n",
    "var_a = e_a * (1 - e_a)\n",
    "var_b = e_b * (1 - e_b)\n",
    "var_c = e_c * (1 - e_c)\n",
    "\n",
    "three_way = 1 - (tij + ti1 + tj1) / (2 * pi)\n",
    "cov_ab = three_way - e_a * e_b\n",
    "cov_ac = three_way - e_a * e_c\n",
    "cov_bc = three_way - e_b * e_c\n",
    "\n",
    "cov_mat = Matrix([[var_b, cov_bc], [cov_bc, var_c]])\n",
    "inv_mat = cov_mat.inv()\n",
    "ys = Matrix([[cov_ab], [cov_ac]])\n",
    "cs = -1 * inv_mat * ys\n",
    "c1 = simplify(cs[0])\n",
    "c2 = simplify(cs[1])\n",
    "\n",
    "var_est = pi*pi*(var_a + c1*c1*var_b + c2*c2*var_c + 2*c1*cov_ab + 2*c2*cov_ac + 2*c1*c2*cov_bc)\n",
    "var_est = simplify(var_est)\n",
    "display(var_est)"
   ]
  }
 ]
}