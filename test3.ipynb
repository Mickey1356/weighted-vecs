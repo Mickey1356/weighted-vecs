{
 "metadata": {
  "language_info": {
   "codemirror_mode": {
    "name": "ipython",
    "version": 3
   },
   "file_extension": ".py",
   "mimetype": "text/x-python",
   "name": "python",
   "nbconvert_exporter": "python",
   "pygments_lexer": "ipython3",
   "version": "3.8.2-final"
  },
  "orig_nbformat": 2,
  "kernelspec": {
   "name": "python3",
   "display_name": "Python 3.8.2 64-bit ('scipy-stack')",
   "metadata": {
    "interpreter": {
     "hash": "69b1103ff2c0bef0ee2aac27c9384921e3034cdbb48d3bf50b7390c22cb72a78"
    }
   }
  }
 },
 "nbformat": 4,
 "nbformat_minor": 2,
 "cells": [
  {
   "cell_type": "code",
   "execution_count": 1,
   "metadata": {},
   "outputs": [],
   "source": [
    "from sympy import *\n",
    "from sympy.stats import *\n",
    "from IPython.display import display"
   ]
  },
  {
   "cell_type": "code",
   "execution_count": 2,
   "metadata": {},
   "outputs": [],
   "source": [
    "rij, ri1, rj1, rij1 = symbols('r_ij r_i1 r_j1 r_ij1')\n"
   ]
  },
  {
   "cell_type": "code",
   "execution_count": 3,
   "metadata": {},
   "outputs": [
    {
     "output_type": "display_data",
     "data": {
      "text/plain": "n1*p**3 - 2*n1*p**2*r_i1 - n1*p**2*r_j1 + n1*p**2 + n1*p*r_i1**2 + n1*p*r_i1*r_j1 - n1*p*r_i1 + n2*p**3 - n2*p**2*r_i1 - n2*p**2*r_j1 + n2*p*r_i1*r_j1 + n3*p**3 - 2*n3*p**2*r_i1 - 2*n3*p**2*r_j1 + n3*p**2 + n3*p*r_i1**2 + 3*n3*p*r_i1*r_j1 - n3*p*r_i1 + n3*p*r_j1**2 - n3*p*r_j1 - n3*r_i1**2*r_j1 - n3*r_i1*r_j1**2 + n3*r_i1*r_j1 + n4*p**3 - n4*p**2*r_i1 - 2*n4*p**2*r_j1 + n4*p**2 + n4*p*r_i1*r_j1 + n4*p*r_j1**2 - n4*p*r_j1",
      "text/latex": "$\\displaystyle n_{1} p^{3} - 2 n_{1} p^{2} r_{i1} - n_{1} p^{2} r_{j1} + n_{1} p^{2} + n_{1} p r_{i1}^{2} + n_{1} p r_{i1} r_{j1} - n_{1} p r_{i1} + n_{2} p^{3} - n_{2} p^{2} r_{i1} - n_{2} p^{2} r_{j1} + n_{2} p r_{i1} r_{j1} + n_{3} p^{3} - 2 n_{3} p^{2} r_{i1} - 2 n_{3} p^{2} r_{j1} + n_{3} p^{2} + n_{3} p r_{i1}^{2} + 3 n_{3} p r_{i1} r_{j1} - n_{3} p r_{i1} + n_{3} p r_{j1}^{2} - n_{3} p r_{j1} - n_{3} r_{i1}^{2} r_{j1} - n_{3} r_{i1} r_{j1}^{2} + n_{3} r_{i1} r_{j1} + n_{4} p^{3} - n_{4} p^{2} r_{i1} - 2 n_{4} p^{2} r_{j1} + n_{4} p^{2} + n_{4} p r_{i1} r_{j1} + n_{4} p r_{j1}^{2} - n_{4} p r_{j1}$"
     },
     "metadata": {}
    }
   ],
   "source": [
    "p = Symbol('p')\n",
    "n1, n2, n3, n4 = symbols('n1 n2 n3 n4')\n",
    "\n",
    "target1 = n1 / (p - rj1) + n2 / (1 + p - ri1 - rj1) + n3 / p + n4 / (p - ri1)\n",
    "\n",
    "target = cancel(target1)\n",
    "\n",
    "mle_num, _ = fraction(target)\n",
    "display(simplify(mle_num))"
   ]
  },
  {
   "cell_type": "code",
   "execution_count": 5,
   "metadata": {},
   "outputs": [
    {
     "output_type": "display_data",
     "data": {
      "text/plain": "((n2 + n3)*(p**2 - 2*p*r_i1*r_j1 + r_i1**2*r_j1 + r_i1*r_j1**2 - r_i1*r_j1) + (r_i1*(p - r_j1*(2*p - r_i1 - r_j1 + 1))*(r_i1 - 1) + (p - r_i1*r_j1)*(p - r_i1*(2*p - r_i1 - r_j1 + 1)))*(-n1 - n3 + r_j1*(n1 + n2 + n3 + n4)) + (r_j1*(p - r_i1*(2*p - r_i1 - r_j1 + 1))*(r_j1 - 1) + (p - r_i1*r_j1)*(p - r_j1*(2*p - r_i1 - r_j1 + 1)))*(-n3 - n4 + r_i1*(n1 + n2 + n3 + n4)) + (n1 + n2 + n3 + n4)*(-2*p + r_i1 + r_j1 - 1)*(p**2 - 2*p*r_i1*r_j1 + r_i1**2*r_j1 + r_i1*r_j1**2 - r_i1*r_j1))/((n1 + n2 + n3 + n4)*(p**2 - 2*p*r_i1*r_j1 + r_i1**2*r_j1 + r_i1*r_j1**2 - r_i1*r_j1))",
      "text/latex": "$\\displaystyle \\frac{\\left(n_{2} + n_{3}\\right) \\left(p^{2} - 2 p r_{i1} r_{j1} + r_{i1}^{2} r_{j1} + r_{i1} r_{j1}^{2} - r_{i1} r_{j1}\\right) + \\left(r_{i1} \\left(p - r_{j1} \\left(2 p - r_{i1} - r_{j1} + 1\\right)\\right) \\left(r_{i1} - 1\\right) + \\left(p - r_{i1} r_{j1}\\right) \\left(p - r_{i1} \\left(2 p - r_{i1} - r_{j1} + 1\\right)\\right)\\right) \\left(- n_{1} - n_{3} + r_{j1} \\left(n_{1} + n_{2} + n_{3} + n_{4}\\right)\\right) + \\left(r_{j1} \\left(p - r_{i1} \\left(2 p - r_{i1} - r_{j1} + 1\\right)\\right) \\left(r_{j1} - 1\\right) + \\left(p - r_{i1} r_{j1}\\right) \\left(p - r_{j1} \\left(2 p - r_{i1} - r_{j1} + 1\\right)\\right)\\right) \\left(- n_{3} - n_{4} + r_{i1} \\left(n_{1} + n_{2} + n_{3} + n_{4}\\right)\\right) + \\left(n_{1} + n_{2} + n_{3} + n_{4}\\right) \\left(- 2 p + r_{i1} + r_{j1} - 1\\right) \\left(p^{2} - 2 p r_{i1} r_{j1} + r_{i1}^{2} r_{j1} + r_{i1} r_{j1}^{2} - r_{i1} r_{j1}\\right)}{\\left(n_{1} + n_{2} + n_{3} + n_{4}\\right) \\left(p^{2} - 2 p r_{i1} r_{j1} + r_{i1}^{2} r_{j1} + r_{i1} r_{j1}^{2} - r_{i1} r_{j1}\\right)}$"
     },
     "metadata": {}
    },
    {
     "output_type": "display_data",
     "data": {
      "text/plain": "-2",
      "text/latex": "$\\displaystyle -2$"
     },
     "metadata": {}
    }
   ],
   "source": [
    "K = n1 + n2 + n3 + n4\n",
    "A = (n2 + n3) / K\n",
    "B = (n3 + n4) / K\n",
    "C = (n1 + n3) / K\n",
    "rij1 = p\n",
    "rij = 1 + 2 * p - ri1 - rj1\n",
    "\n",
    "e_a = rij\n",
    "e_b = ri1\n",
    "e_c = rj1\n",
    "\n",
    "var_b = e_b * (1 - e_b)\n",
    "var_c = e_c * (1 - e_c)\n",
    "\n",
    "three_way = rij1\n",
    "cov_ab = three_way - e_a * e_b\n",
    "cov_ac = three_way - e_a * e_c\n",
    "cov_bc = three_way - e_b * e_c\n",
    "\n",
    "cov_mat = Matrix([[var_b, cov_bc], [cov_bc, var_c]])\n",
    "inv_mat = cov_mat.inv()\n",
    "ys = Matrix([[cov_ab], [cov_ac]])\n",
    "cs = -1 * inv_mat * ys\n",
    "c1 = simplify(cs[0])\n",
    "c2 = simplify(cs[1])\n",
    "\n",
    "cv_eqn = A + c1 * (B - e_b) + c2 * (C - e_c) - rij\n",
    "cv_eqn = simplify(cv_eqn)\n",
    "display(cv_eqn)\n",
    "\n",
    "cv_num, _ = fraction(cv_eqn)\n",
    "display(simplify(cv_num/mle_num))\n"
   ]
  },
  {
   "cell_type": "code",
   "execution_count": 13,
   "metadata": {},
   "outputs": [
    {
     "output_type": "execute_result",
     "data": {
      "text/plain": [
       "'- 2 n_{1} p^{3} + 4 n_{1} p^{2} r_{i1} + 2 n_{1} p^{2} r_{j1} - 2 n_{1} p^{2} - 2 n_{1} p r_{i1}^{2} - 2 n_{1} p r_{i1} r_{j1} + 2 n_{1} p r_{i1} - 2 n_{2} p^{3} + 2 n_{2} p^{2} r_{i1} + 2 n_{2} p^{2} r_{j1} - 2 n_{2} p r_{i1} r_{j1} - 2 n_{3} p^{3} + 4 n_{3} p^{2} r_{i1} + 4 n_{3} p^{2} r_{j1} - 2 n_{3} p^{2} - 2 n_{3} p r_{i1}^{2} - 6 n_{3} p r_{i1} r_{j1} + 2 n_{3} p r_{i1} - 2 n_{3} p r_{j1}^{2} + 2 n_{3} p r_{j1} + 2 n_{3} r_{i1}^{2} r_{j1} + 2 n_{3} r_{i1} r_{j1}^{2} - 2 n_{3} r_{i1} r_{j1} - 2 n_{4} p^{3} + 2 n_{4} p^{2} r_{i1} + 4 n_{4} p^{2} r_{j1} - 2 n_{4} p^{2} - 2 n_{4} p r_{i1} r_{j1} - 2 n_{4} p r_{j1}^{2} + 2 n_{4} p r_{j1}'"
      ]
     },
     "metadata": {},
     "execution_count": 13
    }
   ],
   "source": [
    "latex(expand(cv_num))"
   ]
  },
  {
   "cell_type": "code",
   "execution_count": 5,
   "metadata": {},
   "outputs": [
    {
     "output_type": "display_data",
     "data": {
      "text/plain": "(c_ab*v_c - c_ac*c_bc)/(c_bc**2 - v_b*v_c)",
      "text/latex": "$\\displaystyle \\frac{c_{ab} v_{c} - c_{ac} c_{bc}}{c_{bc}^{2} - v_{b} v_{c}}$"
     },
     "metadata": {}
    },
    {
     "output_type": "display_data",
     "data": {
      "text/plain": "(-c_ab*c_bc + c_ac*v_b)/(c_bc**2 - v_b*v_c)",
      "text/latex": "$\\displaystyle \\frac{- c_{ab} c_{bc} + c_{ac} v_{b}}{c_{bc}^{2} - v_{b} v_{c}}$"
     },
     "metadata": {}
    },
    {
     "output_type": "stream",
     "name": "stdout",
     "text": [
      "(c_ab*v_c - c_ac*c_bc)/(c_bc**2 - v_b*v_c)\n(-c_ab*c_bc + c_ac*v_b)/(c_bc**2 - v_b*v_c)\n"
     ]
    }
   ],
   "source": [
    "c_ab, c_ac, c_bc, v_b, v_c = symbols('c_ab c_ac c_bc v_b v_c')\n",
    "ys = Matrix([[c_ab], [c_ac]])\n",
    "cov_mat = Matrix([[v_b, c_bc], [c_bc, v_c]])\n",
    "inv_mat = cov_mat.inv()\n",
    "cs = -1 * inv_mat * ys\n",
    "display(simplify(cs[0]))\n",
    "display(simplify(cs[1]))\n",
    "print(simplify(cs[0]))\n",
    "print(simplify(cs[1]))"
   ]
  }
 ]
}