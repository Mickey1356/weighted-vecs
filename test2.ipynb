{
 "metadata": {
  "language_info": {
   "codemirror_mode": {
    "name": "ipython",
    "version": 3
   },
   "file_extension": ".py",
   "mimetype": "text/x-python",
   "name": "python",
   "nbconvert_exporter": "python",
   "pygments_lexer": "ipython3",
   "version": "3.8.2-final"
  },
  "orig_nbformat": 2,
  "kernelspec": {
   "name": "python3",
   "display_name": "Python 3.8.2 64-bit ('scipy-stack')",
   "metadata": {
    "interpreter": {
     "hash": "69b1103ff2c0bef0ee2aac27c9384921e3034cdbb48d3bf50b7390c22cb72a78"
    }
   }
  }
 },
 "nbformat": 4,
 "nbformat_minor": 2,
 "cells": [
  {
   "cell_type": "code",
   "execution_count": 1,
   "metadata": {},
   "outputs": [],
   "source": [
    "from sympy import *\n",
    "from sympy.stats import *\n",
    "from IPython.display import display"
   ]
  },
  {
   "cell_type": "code",
   "execution_count": 2,
   "metadata": {},
   "outputs": [
    {
     "output_type": "display_data",
     "data": {
      "text/plain": "((A - r_ij)*(r_i1**2*r_j1 - 2*r_i1*r_ij1*r_j1 + r_i1*r_j1**2 - r_i1*r_j1 + r_ij1**2) + (B - r_i1)*(r_j1*(r_j1 - 1)*(r_i1*r_ij - r_ij1) - (r_i1*r_j1 - r_ij1)*(r_ij*r_j1 - r_ij1)) + (C - r_j1)*(r_i1*(r_i1 - 1)*(r_ij*r_j1 - r_ij1) - (r_i1*r_ij - r_ij1)*(r_i1*r_j1 - r_ij1)))/(r_i1**2*r_j1 - 2*r_i1*r_ij1*r_j1 + r_i1*r_j1**2 - r_i1*r_j1 + r_ij1**2)",
      "text/latex": "$\\displaystyle \\frac{\\left(A - r_{ij}\\right) \\left(r_{i1}^{2} r_{j1} - 2 r_{i1} r_{ij1} r_{j1} + r_{i1} r_{j1}^{2} - r_{i1} r_{j1} + r_{ij1}^{2}\\right) + \\left(B - r_{i1}\\right) \\left(r_{j1} \\left(r_{j1} - 1\\right) \\left(r_{i1} r_{ij} - r_{ij1}\\right) - \\left(r_{i1} r_{j1} - r_{ij1}\\right) \\left(r_{ij} r_{j1} - r_{ij1}\\right)\\right) + \\left(C - r_{j1}\\right) \\left(r_{i1} \\left(r_{i1} - 1\\right) \\left(r_{ij} r_{j1} - r_{ij1}\\right) - \\left(r_{i1} r_{ij} - r_{ij1}\\right) \\left(r_{i1} r_{j1} - r_{ij1}\\right)\\right)}{r_{i1}^{2} r_{j1} - 2 r_{i1} r_{ij1} r_{j1} + r_{i1} r_{j1}^{2} - r_{i1} r_{j1} + r_{ij1}^{2}}$"
     },
     "metadata": {}
    },
    {
     "output_type": "display_data",
     "data": {
      "text/plain": "(A - r_ij)*(r_i1**2*r_j1 - 2*r_i1*r_ij1*r_j1 + r_i1*r_j1**2 - r_i1*r_j1 + r_ij1**2) + (B - r_i1)*(r_j1*(r_j1 - 1)*(r_i1*r_ij - r_ij1) - (r_i1*r_j1 - r_ij1)*(r_ij*r_j1 - r_ij1)) + (C - r_j1)*(r_i1*(r_i1 - 1)*(r_ij*r_j1 - r_ij1) - (r_i1*r_ij - r_ij1)*(r_i1*r_j1 - r_ij1))",
      "text/latex": "$\\displaystyle \\left(A - r_{ij}\\right) \\left(r_{i1}^{2} r_{j1} - 2 r_{i1} r_{ij1} r_{j1} + r_{i1} r_{j1}^{2} - r_{i1} r_{j1} + r_{ij1}^{2}\\right) + \\left(B - r_{i1}\\right) \\left(r_{j1} \\left(r_{j1} - 1\\right) \\left(r_{i1} r_{ij} - r_{ij1}\\right) - \\left(r_{i1} r_{j1} - r_{ij1}\\right) \\left(r_{ij} r_{j1} - r_{ij1}\\right)\\right) + \\left(C - r_{j1}\\right) \\left(r_{i1} \\left(r_{i1} - 1\\right) \\left(r_{ij} r_{j1} - r_{ij1}\\right) - \\left(r_{i1} r_{ij} - r_{ij1}\\right) \\left(r_{i1} r_{j1} - r_{ij1}\\right)\\right)$"
     },
     "metadata": {}
    }
   ],
   "source": [
    "rij, ri1, rj1, rij1 = symbols('r_ij r_i1 r_j1 r_ij1')\n",
    "\n",
    "e_a = rij\n",
    "e_b = ri1\n",
    "e_c = rj1\n",
    "\n",
    "var_b = e_b * (1 - e_b)\n",
    "var_c = e_c * (1 - e_c)\n",
    "\n",
    "three_way = rij1\n",
    "cov_ab = three_way - e_a * e_b\n",
    "cov_ac = three_way - e_a * e_c\n",
    "cov_bc = three_way - e_b * e_c\n",
    "\n",
    "cov_mat = Matrix([[var_b, cov_bc], [cov_bc, var_c]])\n",
    "inv_mat = cov_mat.inv()\n",
    "ys = Matrix([[cov_ab], [cov_ac]])\n",
    "cs = -1 * inv_mat * ys\n",
    "c1 = simplify(cs[0])\n",
    "c2 = simplify(cs[1])\n",
    "\n",
    "A, B, C = symbols('A B C')\n",
    "\n",
    "cv_eqn = A + c1 * (B - e_b) + c2 * (C - e_c) - rij\n",
    "cv_eqn = simplify(cv_eqn)\n",
    "display(cv_eqn)\n",
    "\n",
    "cv_num, _ = fraction(cv_eqn)\n",
    "display(simplify(cv_num))"
   ]
  },
  {
   "cell_type": "code",
   "execution_count": 3,
   "metadata": {},
   "outputs": [
    {
     "output_type": "display_data",
     "data": {
      "text/plain": "n1*p**3 - 2*n1*p**2*r_i1 - 2*n1*p**2*r_j1 + n1*p**2 + n1*p*r_i1**2 + 3*n1*p*r_i1*r_j1 - n1*p*r_i1 + n1*p*r_j1**2 - n1*p*r_j1 - n1*r_i1**2*r_j1 - n1*r_i1*r_j1**2 + n1*r_i1*r_j1 + n2*p**3 - 2*n2*p**2*r_i1 - n2*p**2*r_j1 + n2*p**2 + n2*p*r_i1**2 + n2*p*r_i1*r_j1 - n2*p*r_i1 + n3*p**3 - n3*p**2*r_i1 - 2*n3*p**2*r_j1 + n3*p**2 + n3*p*r_i1*r_j1 + n3*p*r_j1**2 - n3*p*r_j1 + n4*p**3 - n4*p**2*r_i1 - n4*p**2*r_j1 + n4*p*r_i1*r_j1 + n5*p**3 - n5*p**2*r_i1 - n5*p**2*r_j1 + n5*p*r_i1*r_j1",
      "text/latex": "$\\displaystyle n_{1} p^{3} - 2 n_{1} p^{2} r_{i1} - 2 n_{1} p^{2} r_{j1} + n_{1} p^{2} + n_{1} p r_{i1}^{2} + 3 n_{1} p r_{i1} r_{j1} - n_{1} p r_{i1} + n_{1} p r_{j1}^{2} - n_{1} p r_{j1} - n_{1} r_{i1}^{2} r_{j1} - n_{1} r_{i1} r_{j1}^{2} + n_{1} r_{i1} r_{j1} + n_{2} p^{3} - 2 n_{2} p^{2} r_{i1} - n_{2} p^{2} r_{j1} + n_{2} p^{2} + n_{2} p r_{i1}^{2} + n_{2} p r_{i1} r_{j1} - n_{2} p r_{i1} + n_{3} p^{3} - n_{3} p^{2} r_{i1} - 2 n_{3} p^{2} r_{j1} + n_{3} p^{2} + n_{3} p r_{i1} r_{j1} + n_{3} p r_{j1}^{2} - n_{3} p r_{j1} + n_{4} p^{3} - n_{4} p^{2} r_{i1} - n_{4} p^{2} r_{j1} + n_{4} p r_{i1} r_{j1} + n_{5} p^{3} - n_{5} p^{2} r_{i1} - n_{5} p^{2} r_{j1} + n_{5} p r_{i1} r_{j1}$"
     },
     "metadata": {}
    }
   ],
   "source": [
    "p = Symbol('p')\n",
    "n1, n2, n3, n4, n5 = symbols('n1 n2 n3 n4 n5')\n",
    "\n",
    "target1 = n1 / p + n2 / (p - rj1) + n3 / (p - ri1) + (n4 + n5) / (1 + p - ri1 - rj1)\n",
    "\n",
    "target = cancel(target1)\n",
    "\n",
    "mle_num, _ = fraction(target)\n",
    "display(simplify(mle_num))"
   ]
  },
  {
   "cell_type": "code",
   "execution_count": 4,
   "metadata": {},
   "outputs": [
    {
     "output_type": "display_data",
     "data": {
      "text/plain": "(-n4*(p - r_i1 - r_j1 + 1)*(n1 + n2 + n3 + n4 + n5)*(p**2 - 2*p*r_i1*r_j1 + r_i1**2*r_j1 + r_i1*r_j1**2 - r_i1*r_j1) - p*(n4 + n5)*(n1 + n2 + n3 + n4 + n5)*(p**2 - 2*p*r_i1*r_j1 + r_i1**2*r_j1 + r_i1*r_j1**2 - r_i1*r_j1) + (n1 + n4)*(n4 + n5)*(p**2 - 2*p*r_i1*r_j1 + r_i1**2*r_j1 + r_i1*r_j1**2 - r_i1*r_j1) + (r_i1*(r_i1 - 1)*(p*(n4 + n5) - r_j1*(n4*(p - r_i1 - r_j1 + 1) + p*(n4 + n5))) + (p - r_i1*r_j1)*(p*(n4 + n5) - r_i1*(n4*(p - r_i1 - r_j1 + 1) + p*(n4 + n5))))*(-n1 - n2 + r_j1*(n1 + n2 + n3 + n4 + n5)) + (r_j1*(r_j1 - 1)*(p*(n4 + n5) - r_i1*(n4*(p - r_i1 - r_j1 + 1) + p*(n4 + n5))) + (p - r_i1*r_j1)*(p*(n4 + n5) - r_j1*(n4*(p - r_i1 - r_j1 + 1) + p*(n4 + n5))))*(-n1 - n3 + r_i1*(n1 + n2 + n3 + n4 + n5)))/((n4 + n5)*(n1 + n2 + n3 + n4 + n5)*(p**2 - 2*p*r_i1*r_j1 + r_i1**2*r_j1 + r_i1*r_j1**2 - r_i1*r_j1))",
      "text/latex": "$\\displaystyle \\frac{- n_{4} \\left(p - r_{i1} - r_{j1} + 1\\right) \\left(n_{1} + n_{2} + n_{3} + n_{4} + n_{5}\\right) \\left(p^{2} - 2 p r_{i1} r_{j1} + r_{i1}^{2} r_{j1} + r_{i1} r_{j1}^{2} - r_{i1} r_{j1}\\right) - p \\left(n_{4} + n_{5}\\right) \\left(n_{1} + n_{2} + n_{3} + n_{4} + n_{5}\\right) \\left(p^{2} - 2 p r_{i1} r_{j1} + r_{i1}^{2} r_{j1} + r_{i1} r_{j1}^{2} - r_{i1} r_{j1}\\right) + \\left(n_{1} + n_{4}\\right) \\left(n_{4} + n_{5}\\right) \\left(p^{2} - 2 p r_{i1} r_{j1} + r_{i1}^{2} r_{j1} + r_{i1} r_{j1}^{2} - r_{i1} r_{j1}\\right) + \\left(r_{i1} \\left(r_{i1} - 1\\right) \\left(p \\left(n_{4} + n_{5}\\right) - r_{j1} \\left(n_{4} \\left(p - r_{i1} - r_{j1} + 1\\right) + p \\left(n_{4} + n_{5}\\right)\\right)\\right) + \\left(p - r_{i1} r_{j1}\\right) \\left(p \\left(n_{4} + n_{5}\\right) - r_{i1} \\left(n_{4} \\left(p - r_{i1} - r_{j1} + 1\\right) + p \\left(n_{4} + n_{5}\\right)\\right)\\right)\\right) \\left(- n_{1} - n_{2} + r_{j1} \\left(n_{1} + n_{2} + n_{3} + n_{4} + n_{5}\\right)\\right) + \\left(r_{j1} \\left(r_{j1} - 1\\right) \\left(p \\left(n_{4} + n_{5}\\right) - r_{i1} \\left(n_{4} \\left(p - r_{i1} - r_{j1} + 1\\right) + p \\left(n_{4} + n_{5}\\right)\\right)\\right) + \\left(p - r_{i1} r_{j1}\\right) \\left(p \\left(n_{4} + n_{5}\\right) - r_{j1} \\left(n_{4} \\left(p - r_{i1} - r_{j1} + 1\\right) + p \\left(n_{4} + n_{5}\\right)\\right)\\right)\\right) \\left(- n_{1} - n_{3} + r_{i1} \\left(n_{1} + n_{2} + n_{3} + n_{4} + n_{5}\\right)\\right)}{\\left(n_{4} + n_{5}\\right) \\left(n_{1} + n_{2} + n_{3} + n_{4} + n_{5}\\right) \\left(p^{2} - 2 p r_{i1} r_{j1} + r_{i1}^{2} r_{j1} + r_{i1} r_{j1}^{2} - r_{i1} r_{j1}\\right)}$"
     },
     "metadata": {}
    },
    {
     "output_type": "display_data",
     "data": {
      "text/plain": "-2*n4 - n5",
      "text/latex": "$\\displaystyle - 2 n_{4} - n_{5}$"
     },
     "metadata": {}
    }
   ],
   "source": [
    "# change of vars\n",
    "# A = (n1 + n4) / K\n",
    "# B = (n1 + n3) / K\n",
    "# C = (n1 + n2) / K\n",
    "# K = n1 + n2 + n3 + n4 + n5\n",
    "# rij1 = n1 / K\n",
    "# rij = pA + pD = p + n4 * (1 + p - ri1 - rj1) / (n4 + n5)\n",
    "\n",
    "K = n1 + n2 + n3 + n4 + n5\n",
    "A = (n1 + n4) / K\n",
    "B = (n1 + n3) / K\n",
    "C = (n1 + n2) / K\n",
    "rij1 = p\n",
    "rij = p + n4 * (1 + p - ri1 - rj1) / (n4 + n5)\n",
    "\n",
    "e_a = rij\n",
    "e_b = ri1\n",
    "e_c = rj1\n",
    "\n",
    "var_b = e_b * (1 - e_b)\n",
    "var_c = e_c * (1 - e_c)\n",
    "\n",
    "three_way = rij1\n",
    "cov_ab = three_way - e_a * e_b\n",
    "cov_ac = three_way - e_a * e_c\n",
    "cov_bc = three_way - e_b * e_c\n",
    "\n",
    "cov_mat = Matrix([[var_b, cov_bc], [cov_bc, var_c]])\n",
    "inv_mat = cov_mat.inv()\n",
    "ys = Matrix([[cov_ab], [cov_ac]])\n",
    "cs = -1 * inv_mat * ys\n",
    "c1 = simplify(cs[0])\n",
    "c2 = simplify(cs[1])\n",
    "\n",
    "cv_eqn = A + c1 * (B - e_b) + c2 * (C - e_c) - rij\n",
    "cv_eqn = simplify(cv_eqn)\n",
    "display(cv_eqn)\n",
    "\n",
    "cv_num, _ = fraction(cv_eqn)\n",
    "display(simplify(cv_num/mle_num))\n",
    "\n"
   ]
  },
  {
   "cell_type": "code",
   "execution_count": 6,
   "metadata": {},
   "outputs": [
    {
     "output_type": "display_data",
     "data": {
      "text/plain": "-2*n1*n4*p**3 + 4*n1*n4*p**2*r_i1 + 4*n1*n4*p**2*r_j1 - 2*n1*n4*p**2 - 2*n1*n4*p*r_i1**2 - 6*n1*n4*p*r_i1*r_j1 + 2*n1*n4*p*r_i1 - 2*n1*n4*p*r_j1**2 + 2*n1*n4*p*r_j1 + 2*n1*n4*r_i1**2*r_j1 + 2*n1*n4*r_i1*r_j1**2 - 2*n1*n4*r_i1*r_j1 - n1*n5*p**3 + 2*n1*n5*p**2*r_i1 + 2*n1*n5*p**2*r_j1 - n1*n5*p**2 - n1*n5*p*r_i1**2 - 3*n1*n5*p*r_i1*r_j1 + n1*n5*p*r_i1 - n1*n5*p*r_j1**2 + n1*n5*p*r_j1 + n1*n5*r_i1**2*r_j1 + n1*n5*r_i1*r_j1**2 - n1*n5*r_i1*r_j1 - 2*n2*n4*p**3 + 4*n2*n4*p**2*r_i1 + 2*n2*n4*p**2*r_j1 - 2*n2*n4*p**2 - 2*n2*n4*p*r_i1**2 - 2*n2*n4*p*r_i1*r_j1 + 2*n2*n4*p*r_i1 - n2*n5*p**3 + 2*n2*n5*p**2*r_i1 + n2*n5*p**2*r_j1 - n2*n5*p**2 - n2*n5*p*r_i1**2 - n2*n5*p*r_i1*r_j1 + n2*n5*p*r_i1 - 2*n3*n4*p**3 + 2*n3*n4*p**2*r_i1 + 4*n3*n4*p**2*r_j1 - 2*n3*n4*p**2 - 2*n3*n4*p*r_i1*r_j1 - 2*n3*n4*p*r_j1**2 + 2*n3*n4*p*r_j1 - n3*n5*p**3 + n3*n5*p**2*r_i1 + 2*n3*n5*p**2*r_j1 - n3*n5*p**2 - n3*n5*p*r_i1*r_j1 - n3*n5*p*r_j1**2 + n3*n5*p*r_j1 - 2*n4**2*p**3 + 2*n4**2*p**2*r_i1 + 2*n4**2*p**2*r_j1 - 2*n4**2*p*r_i1*r_j1 - 3*n4*n5*p**3 + 3*n4*n5*p**2*r_i1 + 3*n4*n5*p**2*r_j1 - 3*n4*n5*p*r_i1*r_j1 - n5**2*p**3 + n5**2*p**2*r_i1 + n5**2*p**2*r_j1 - n5**2*p*r_i1*r_j1",
      "text/latex": "$\\displaystyle - 2 n_{1} n_{4} p^{3} + 4 n_{1} n_{4} p^{2} r_{i1} + 4 n_{1} n_{4} p^{2} r_{j1} - 2 n_{1} n_{4} p^{2} - 2 n_{1} n_{4} p r_{i1}^{2} - 6 n_{1} n_{4} p r_{i1} r_{j1} + 2 n_{1} n_{4} p r_{i1} - 2 n_{1} n_{4} p r_{j1}^{2} + 2 n_{1} n_{4} p r_{j1} + 2 n_{1} n_{4} r_{i1}^{2} r_{j1} + 2 n_{1} n_{4} r_{i1} r_{j1}^{2} - 2 n_{1} n_{4} r_{i1} r_{j1} - n_{1} n_{5} p^{3} + 2 n_{1} n_{5} p^{2} r_{i1} + 2 n_{1} n_{5} p^{2} r_{j1} - n_{1} n_{5} p^{2} - n_{1} n_{5} p r_{i1}^{2} - 3 n_{1} n_{5} p r_{i1} r_{j1} + n_{1} n_{5} p r_{i1} - n_{1} n_{5} p r_{j1}^{2} + n_{1} n_{5} p r_{j1} + n_{1} n_{5} r_{i1}^{2} r_{j1} + n_{1} n_{5} r_{i1} r_{j1}^{2} - n_{1} n_{5} r_{i1} r_{j1} - 2 n_{2} n_{4} p^{3} + 4 n_{2} n_{4} p^{2} r_{i1} + 2 n_{2} n_{4} p^{2} r_{j1} - 2 n_{2} n_{4} p^{2} - 2 n_{2} n_{4} p r_{i1}^{2} - 2 n_{2} n_{4} p r_{i1} r_{j1} + 2 n_{2} n_{4} p r_{i1} - n_{2} n_{5} p^{3} + 2 n_{2} n_{5} p^{2} r_{i1} + n_{2} n_{5} p^{2} r_{j1} - n_{2} n_{5} p^{2} - n_{2} n_{5} p r_{i1}^{2} - n_{2} n_{5} p r_{i1} r_{j1} + n_{2} n_{5} p r_{i1} - 2 n_{3} n_{4} p^{3} + 2 n_{3} n_{4} p^{2} r_{i1} + 4 n_{3} n_{4} p^{2} r_{j1} - 2 n_{3} n_{4} p^{2} - 2 n_{3} n_{4} p r_{i1} r_{j1} - 2 n_{3} n_{4} p r_{j1}^{2} + 2 n_{3} n_{4} p r_{j1} - n_{3} n_{5} p^{3} + n_{3} n_{5} p^{2} r_{i1} + 2 n_{3} n_{5} p^{2} r_{j1} - n_{3} n_{5} p^{2} - n_{3} n_{5} p r_{i1} r_{j1} - n_{3} n_{5} p r_{j1}^{2} + n_{3} n_{5} p r_{j1} - 2 n_{4}^{2} p^{3} + 2 n_{4}^{2} p^{2} r_{i1} + 2 n_{4}^{2} p^{2} r_{j1} - 2 n_{4}^{2} p r_{i1} r_{j1} - 3 n_{4} n_{5} p^{3} + 3 n_{4} n_{5} p^{2} r_{i1} + 3 n_{4} n_{5} p^{2} r_{j1} - 3 n_{4} n_{5} p r_{i1} r_{j1} - n_{5}^{2} p^{3} + n_{5}^{2} p^{2} r_{i1} + n_{5}^{2} p^{2} r_{j1} - n_{5}^{2} p r_{i1} r_{j1}$"
     },
     "metadata": {}
    }
   ],
   "source": [
    "display(simplify(expand(cv_num)))"
   ]
  }
 ]
}